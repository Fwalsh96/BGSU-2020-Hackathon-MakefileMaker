{
 "cells": [
  {
   "cell_type": "code",
   "execution_count": 4,
   "metadata": {},
   "outputs": [],
   "source": [
    "from tkinter import*\n",
    "from tkinter.ttk import*\n",
    "import tkinter as tk\n",
    "\n",
    "def new_window1():\n",
    "    global win1\n",
    "    try:\n",
    "        if win1.state() == \"normal\": win1.focus()\n",
    "    except:\n",
    "        win1 = tk.Toplevel()\n",
    "        win1.geometry(\"300x300+500+200\")\n",
    "        win1[\"bg\"] = \"navy\"\n",
    "        lb = tk.Label(win1, text=\"Hello\")\n",
    "        lb.pack()\n",
    " \n",
    " \n",
    "win = tk.Tk()\n",
    "win.geometry(\"200x200+200+100\")\n",
    "button = tk.Button(win, text=\"Open new Window\")\n",
    "button['command'] = new_window1\n",
    "button.pack()\n",
    "\n",
    "win.mainloop()"
   ]
  },
  {
   "cell_type": "code",
   "execution_count": null,
   "metadata": {},
   "outputs": [],
   "source": []
  }
 ],
 "metadata": {
  "kernelspec": {
   "display_name": "Python 3",
   "language": "python",
   "name": "python3"
  },
  "language_info": {
   "codemirror_mode": {
    "name": "ipython",
    "version": 3
   },
   "file_extension": ".py",
   "mimetype": "text/x-python",
   "name": "python",
   "nbconvert_exporter": "python",
   "pygments_lexer": "ipython3",
   "version": "3.7.4"
  }
 },
 "nbformat": 4,
 "nbformat_minor": 2
}
