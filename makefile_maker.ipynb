import tkinter as tk

window = Tk()
window.title("MAKEfile")
window.geometry('500x500')
count = 0
f_names = []
f = open("makefile", "a")

'''
def new_file(count):
    new_window = Tk()
    window.title("MAKEfile (" + str(count) + ")" )
    window.geometry('500x300')
    count = count + 1
'''
def messageWindow():
    window = Tk()

def open_file():
    print("enter")

def save_():
    print("Enter")
    
def save_as():
    print("enter")
    
def add_filenames():
    f_names.append(filename_txtbox.get())
    lstbox.insert(0, f_names)

menubar = Menu(window)
filemenu = Menu(menubar, tearoff=0)
filemenu.add_command(label="New", command =messageWindow)
filemenu.add_command(label="Open", command = open_file)
filemenu.add_command(label="Save", command = save_)
filemenu.add_command(label="Save As", command = save_as)

filemenu.add_separator()

filemenu.add_command(label="Exit", command = window.quit)
menubar.add_cascade(label="File", menu = filemenu)


OPTIONS = [
"C",
"C++",
"C#",
"Python"
]


variable = StringVar(window)
variable.set(OPTIONS[0]) # default value

filename_txtbox = Entry(window, width=15)
filename_txtbox.grid(column=1, row=0)

add_btn = Button(window, text="Add", command=add_filenames)
add_btn.grid(column=2, row=0)

fn_lbl = Label(window, text="Enter filenames: ")
fn_lbl.grid(column=0,row=0)

targetname_txtbox = Entry(window, width=15)
targetname_txtbox.grid(column=1, row=2)

trg_lbl = Label(window, text="Enter target name: ")
trg_lbl.grid(column=0,row=2)

lstbox = Listbox(window)
lstbox.grid(column=1, row=1)

var1 = IntVar()
c1 = Checkbutton(window, text="Bash", variable=var1, onvalue=1, offvalue=0)
c1.grid(column=0, row=7)
# Create new file in current directory

def createMakefile():
    
    
    target(targetname_txtbox.get(), f_names)
    print(f_names)
    compileLine(f_names)
    
    if(var1.get()==0):
        winClean()
    else:
        bashClean()
    
    

# Function that checks for extension

# Skip a line function

def skipLine():

    f.write("\n")


# Function that puts all files in additonal files list

def getAdditionalFiles():

    for x in range(0, numberOfFiles):

        print()
        
# Function that writes the compile line

def compileLine(f_names):
    extensionType = "exe"
    if variable.get() == "C":
        compileType = "\tgcc "
    elif variable.get() == "C++":
        compileType = "\tg++ "
    elif variable.get() == "Python":
        compileType = "\tpython "
        extensionType = "pyc"
    elif variable.get() == "C#":
        compileType = "\tcsc "
    f.write(compileType + "/t:" + extensionType + " ")

    f.write("/out:")
    print(str(len(f_names)))

    f.write(' '.join(f_names))

    

    #f.write("/r:")
    
    



# Function that writes clean to file

def bashClean():

    skipLine()
    f.write("\nclean:\n")

    f.write("\trm *.dll\n")

    f.write("\trm *.exe")

    

# Function that writes clean to file

def winClean():
    
    skipLine()
    f.write("\nclean:\n")

    f.write("\tdel *.dll\n")

    f.write("\tdel *.exe")


# Function that writes the target file, and the included parameters

def target(targetname, f_names):

    f.write(targetname + ':' + '\t' +' '.join(f_names) + "\n")

w = OptionMenu(window, variable, *OPTIONS)
w.grid(column=5, row = 0)
window.config(menu = menubar)
button = Button(window, text="Run", command=createMakefile)
button.grid(column=3,row=2)

window.mainloop()
f.close()
